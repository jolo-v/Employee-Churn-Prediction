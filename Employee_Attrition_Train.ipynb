{
 "cells": [
  {
   "cell_type": "code",
   "execution_count": 1,
   "id": "8a2192a0",
   "metadata": {},
   "outputs": [],
   "source": [
    "import pandas as pd\n",
    "import numpy as np\n",
    "from boruta import BorutaPy "
   ]
  },
  {
   "cell_type": "code",
   "execution_count": 2,
   "id": "630f05b7",
   "metadata": {},
   "outputs": [],
   "source": [
    "from pycaret.classification import *"
   ]
  },
  {
   "cell_type": "markdown",
   "id": "6168b0ee",
   "metadata": {},
   "source": [
    "Let us first check for missing values:"
   ]
  },
  {
   "cell_type": "code",
   "execution_count": 3,
   "id": "245532eb",
   "metadata": {},
   "outputs": [
    {
     "data": {
      "text/plain": [
       "department       0\n",
       "promoted         0\n",
       "review           0\n",
       "projects         0\n",
       "salary           0\n",
       "tenure           0\n",
       "satisfaction     0\n",
       "bonus            0\n",
       "avg_hrs_month    0\n",
       "left             0\n",
       "dtype: int64"
      ]
     },
     "execution_count": 3,
     "metadata": {},
     "output_type": "execute_result"
    }
   ],
   "source": [
    "#Read data\n",
    "raw_data = pd.read_csv('employee_churn_data.csv')\n",
    "#Check for missing values\n",
    "raw_data.isna().sum()"
   ]
  },
  {
   "cell_type": "code",
   "execution_count": 4,
   "id": "7bfa3adf",
   "metadata": {},
   "outputs": [
    {
     "data": {
      "text/plain": [
       "(9540, 10)"
      ]
     },
     "execution_count": 4,
     "metadata": {},
     "output_type": "execute_result"
    }
   ],
   "source": [
    "raw_data.shape"
   ]
  },
  {
   "cell_type": "markdown",
   "id": "26a169a6",
   "metadata": {},
   "source": [
    "As we can see, there are no missing values in the dataset.\n",
    "Let's split the data into training and test set, and then perform analyses and modeling on the training set."
   ]
  },
  {
   "cell_type": "code",
   "execution_count": 5,
   "id": "ae188e74",
   "metadata": {},
   "outputs": [],
   "source": [
    "from sklearn.model_selection import train_test_split as tts\n",
    "train, test = tts(raw_data,test_size=0.2,random_state=32)\n",
    "train = pd.DataFrame(train,columns=raw_data.columns)\n",
    "train.reset_index(level=None,inplace=True,drop=True)\n",
    "test = pd.DataFrame(test,columns=raw_data.columns)\n",
    "test.reset_index(level=None,inplace=True,drop=True)"
   ]
  },
  {
   "cell_type": "code",
   "execution_count": 83,
   "id": "e05960ff",
   "metadata": {},
   "outputs": [],
   "source": [
    "test.to_csv('employee_churn_test.csv')"
   ]
  },
  {
   "cell_type": "code",
   "execution_count": 6,
   "id": "c2d733d9",
   "metadata": {},
   "outputs": [
    {
     "data": {
      "text/plain": [
       "left\n",
       "no     5422\n",
       "yes    2210\n",
       "dtype: int64"
      ]
     },
     "execution_count": 6,
     "metadata": {},
     "output_type": "execute_result"
    }
   ],
   "source": [
    "train.groupby('left').size()"
   ]
  },
  {
   "cell_type": "code",
   "execution_count": 7,
   "id": "69e8c01a",
   "metadata": {},
   "outputs": [
    {
     "data": {
      "text/plain": [
       "promoted\n",
       "0    7395\n",
       "1     237\n",
       "dtype: int64"
      ]
     },
     "execution_count": 7,
     "metadata": {},
     "output_type": "execute_result"
    }
   ],
   "source": [
    "train.groupby('promoted').size()"
   ]
  },
  {
   "cell_type": "code",
   "execution_count": 8,
   "id": "7064d6cb",
   "metadata": {},
   "outputs": [
    {
     "data": {
      "text/plain": [
       "department\n",
       "IT              286\n",
       "admin           340\n",
       "engineering    1220\n",
       "finance         323\n",
       "logistics       297\n",
       "marketing       647\n",
       "operations     1204\n",
       "retail         1225\n",
       "sales          1490\n",
       "support         600\n",
       "dtype: int64"
      ]
     },
     "execution_count": 8,
     "metadata": {},
     "output_type": "execute_result"
    }
   ],
   "source": [
    "train.groupby('department').size()"
   ]
  },
  {
   "cell_type": "code",
   "execution_count": 9,
   "id": "ef53be52",
   "metadata": {},
   "outputs": [
    {
     "data": {
      "text/plain": [
       "salary\n",
       "high      1258\n",
       "low       1106\n",
       "medium    5268\n",
       "dtype: int64"
      ]
     },
     "execution_count": 9,
     "metadata": {},
     "output_type": "execute_result"
    }
   ],
   "source": [
    "train.groupby('salary').size()"
   ]
  },
  {
   "cell_type": "code",
   "execution_count": 10,
   "id": "038ae211",
   "metadata": {},
   "outputs": [
    {
     "data": {
      "text/plain": [
       "bonus\n",
       "0    6014\n",
       "1    1618\n",
       "dtype: int64"
      ]
     },
     "execution_count": 10,
     "metadata": {},
     "output_type": "execute_result"
    }
   ],
   "source": [
    "train.groupby('bonus').size()"
   ]
  },
  {
   "cell_type": "code",
   "execution_count": 11,
   "id": "7bcdc411",
   "metadata": {},
   "outputs": [
    {
     "data": {
      "text/html": [
       "<div>\n",
       "<style scoped>\n",
       "    .dataframe tbody tr th:only-of-type {\n",
       "        vertical-align: middle;\n",
       "    }\n",
       "\n",
       "    .dataframe tbody tr th {\n",
       "        vertical-align: top;\n",
       "    }\n",
       "\n",
       "    .dataframe thead th {\n",
       "        text-align: right;\n",
       "    }\n",
       "</style>\n",
       "<table border=\"1\" class=\"dataframe\">\n",
       "  <thead>\n",
       "    <tr style=\"text-align: right;\">\n",
       "      <th></th>\n",
       "      <th>review</th>\n",
       "      <th>projects</th>\n",
       "      <th>tenure</th>\n",
       "      <th>satisfaction</th>\n",
       "      <th>avg_hrs_month</th>\n",
       "    </tr>\n",
       "  </thead>\n",
       "  <tbody>\n",
       "    <tr>\n",
       "      <th>count</th>\n",
       "      <td>7632.000000</td>\n",
       "      <td>7632.000000</td>\n",
       "      <td>7632.000000</td>\n",
       "      <td>7632.000000</td>\n",
       "      <td>7632.000000</td>\n",
       "    </tr>\n",
       "    <tr>\n",
       "      <th>mean</th>\n",
       "      <td>0.651366</td>\n",
       "      <td>3.276074</td>\n",
       "      <td>6.549528</td>\n",
       "      <td>0.505192</td>\n",
       "      <td>184.631365</td>\n",
       "    </tr>\n",
       "    <tr>\n",
       "      <th>std</th>\n",
       "      <td>0.085866</td>\n",
       "      <td>0.577537</td>\n",
       "      <td>1.421205</td>\n",
       "      <td>0.159187</td>\n",
       "      <td>4.163008</td>\n",
       "    </tr>\n",
       "    <tr>\n",
       "      <th>min</th>\n",
       "      <td>0.310000</td>\n",
       "      <td>2.000000</td>\n",
       "      <td>2.000000</td>\n",
       "      <td>0.000000</td>\n",
       "      <td>171.374060</td>\n",
       "    </tr>\n",
       "    <tr>\n",
       "      <th>25%</th>\n",
       "      <td>0.591343</td>\n",
       "      <td>3.000000</td>\n",
       "      <td>5.000000</td>\n",
       "      <td>0.386019</td>\n",
       "      <td>181.458141</td>\n",
       "    </tr>\n",
       "    <tr>\n",
       "      <th>50%</th>\n",
       "      <td>0.646676</td>\n",
       "      <td>3.000000</td>\n",
       "      <td>7.000000</td>\n",
       "      <td>0.502171</td>\n",
       "      <td>184.567823</td>\n",
       "    </tr>\n",
       "    <tr>\n",
       "      <th>75%</th>\n",
       "      <td>0.708208</td>\n",
       "      <td>4.000000</td>\n",
       "      <td>8.000000</td>\n",
       "      <td>0.624874</td>\n",
       "      <td>187.698120</td>\n",
       "    </tr>\n",
       "    <tr>\n",
       "      <th>max</th>\n",
       "      <td>1.000000</td>\n",
       "      <td>5.000000</td>\n",
       "      <td>12.000000</td>\n",
       "      <td>1.000000</td>\n",
       "      <td>200.861656</td>\n",
       "    </tr>\n",
       "  </tbody>\n",
       "</table>\n",
       "</div>"
      ],
      "text/plain": [
       "            review     projects       tenure  satisfaction  avg_hrs_month\n",
       "count  7632.000000  7632.000000  7632.000000   7632.000000    7632.000000\n",
       "mean      0.651366     3.276074     6.549528      0.505192     184.631365\n",
       "std       0.085866     0.577537     1.421205      0.159187       4.163008\n",
       "min       0.310000     2.000000     2.000000      0.000000     171.374060\n",
       "25%       0.591343     3.000000     5.000000      0.386019     181.458141\n",
       "50%       0.646676     3.000000     7.000000      0.502171     184.567823\n",
       "75%       0.708208     4.000000     8.000000      0.624874     187.698120\n",
       "max       1.000000     5.000000    12.000000      1.000000     200.861656"
      ]
     },
     "execution_count": 11,
     "metadata": {},
     "output_type": "execute_result"
    }
   ],
   "source": [
    "train[['review','projects','tenure','satisfaction','avg_hrs_month']].describe()"
   ]
  },
  {
   "cell_type": "markdown",
   "id": "c5edac71",
   "metadata": {},
   "source": [
    "Let us produce boxplots to determine the spread of continuous variables' values."
   ]
  },
  {
   "cell_type": "code",
   "execution_count": 12,
   "id": "30c9fa46",
   "metadata": {},
   "outputs": [
    {
     "data": {
      "text/plain": [
       "{'whiskers': [<matplotlib.lines.Line2D at 0x272dda49e20>,\n",
       "  <matplotlib.lines.Line2D at 0x272dda67130>],\n",
       " 'caps': [<matplotlib.lines.Line2D at 0x272dda67400>,\n",
       "  <matplotlib.lines.Line2D at 0x272dda676d0>],\n",
       " 'boxes': [<matplotlib.lines.Line2D at 0x272dda49b50>],\n",
       " 'medians': [<matplotlib.lines.Line2D at 0x272dda679a0>],\n",
       " 'fliers': [<matplotlib.lines.Line2D at 0x272dda67c70>],\n",
       " 'means': []}"
      ]
     },
     "execution_count": 12,
     "metadata": {},
     "output_type": "execute_result"
    },
    {
     "data": {
      "image/png": "[encoded data removed]",
      "text/plain": [
       "<Figure size 432x288 with 1 Axes>"
      ]
     },
     "metadata": {
      "needs_background": "light"
     },
     "output_type": "display_data"
    }
   ],
   "source": [
    "import matplotlib.pyplot as plt\n",
    "#plt.figure\n",
    "plt.boxplot(train['review'])"
   ]
  },
  {
   "cell_type": "code",
   "execution_count": 13,
   "id": "669817bb",
   "metadata": {},
   "outputs": [
    {
     "data": {
      "text/plain": [
       "{'whiskers': [<matplotlib.lines.Line2D at 0x272ddb53460>,\n",
       "  <matplotlib.lines.Line2D at 0x272ddb53730>],\n",
       " 'caps': [<matplotlib.lines.Line2D at 0x272ddb53a00>,\n",
       "  <matplotlib.lines.Line2D at 0x272ddb53cd0>],\n",
       " 'boxes': [<matplotlib.lines.Line2D at 0x272ddb53190>],\n",
       " 'medians': [<matplotlib.lines.Line2D at 0x272ddb53fa0>],\n",
       " 'fliers': [<matplotlib.lines.Line2D at 0x272ddb5f2b0>],\n",
       " 'means': []}"
      ]
     },
     "execution_count": 13,
     "metadata": {},
     "output_type": "execute_result"
    },
    {
     "data": {
      "image/png": "[encoded data removed]",
      "text/plain": [
       "<Figure size 432x288 with 1 Axes>"
      ]
     },
     "metadata": {
      "needs_background": "light"
     },
     "output_type": "display_data"
    }
   ],
   "source": [
    "plt.boxplot(train['projects'])"
   ]
  },
  {
   "cell_type": "code",
   "execution_count": 14,
   "id": "d5807b29",
   "metadata": {},
   "outputs": [
    {
     "data": {
      "text/plain": [
       "{'whiskers': [<matplotlib.lines.Line2D at 0x272ddbbf2b0>,\n",
       "  <matplotlib.lines.Line2D at 0x272ddbbf580>],\n",
       " 'caps': [<matplotlib.lines.Line2D at 0x272ddbbf850>,\n",
       "  <matplotlib.lines.Line2D at 0x272ddbbfb20>],\n",
       " 'boxes': [<matplotlib.lines.Line2D at 0x272ddbb0fa0>],\n",
       " 'medians': [<matplotlib.lines.Line2D at 0x272ddbbfdf0>],\n",
       " 'fliers': [<matplotlib.lines.Line2D at 0x272ddbcd100>],\n",
       " 'means': []}"
      ]
     },
     "execution_count": 14,
     "metadata": {},
     "output_type": "execute_result"
    },
    {
     "data": {
      "image/png": "[encoded data removed]",
      "text/plain": [
       "<Figure size 432x288 with 1 Axes>"
      ]
     },
     "metadata": {
      "needs_background": "light"
     },
     "output_type": "display_data"
    }
   ],
   "source": [
    "plt.boxplot(train['tenure'])"
   ]
  },
  {
   "cell_type": "code",
   "execution_count": 15,
   "id": "a3557e4b",
   "metadata": {},
   "outputs": [
    {
     "data": {
      "text/plain": [
       "{'whiskers': [<matplotlib.lines.Line2D at 0x272ddc1c9d0>,\n",
       "  <matplotlib.lines.Line2D at 0x272ddc1cca0>],\n",
       " 'caps': [<matplotlib.lines.Line2D at 0x272ddc1cf70>,\n",
       "  <matplotlib.lines.Line2D at 0x272ddc2a280>],\n",
       " 'boxes': [<matplotlib.lines.Line2D at 0x272ddc1c700>],\n",
       " 'medians': [<matplotlib.lines.Line2D at 0x272ddc2a550>],\n",
       " 'fliers': [<matplotlib.lines.Line2D at 0x272ddc2a820>],\n",
       " 'means': []}"
      ]
     },
     "execution_count": 15,
     "metadata": {},
     "output_type": "execute_result"
    },
    {
     "data": {
      "image/png": "[encoded data removed]",
      "text/plain": [
       "<Figure size 432x288 with 1 Axes>"
      ]
     },
     "metadata": {
      "needs_background": "light"
     },
     "output_type": "display_data"
    }
   ],
   "source": [
    "plt.boxplot(train['satisfaction'])"
   ]
  },
  {
   "cell_type": "code",
   "execution_count": 16,
   "id": "38cc8ba7",
   "metadata": {},
   "outputs": [
    {
     "data": {
      "text/plain": [
       "{'whiskers': [<matplotlib.lines.Line2D at 0x272ddc7db80>,\n",
       "  <matplotlib.lines.Line2D at 0x272ddc7de80>],\n",
       " 'caps': [<matplotlib.lines.Line2D at 0x272ddc8d190>,\n",
       "  <matplotlib.lines.Line2D at 0x272ddc8d460>],\n",
       " 'boxes': [<matplotlib.lines.Line2D at 0x272ddc7d8b0>],\n",
       " 'medians': [<matplotlib.lines.Line2D at 0x272ddc8d730>],\n",
       " 'fliers': [<matplotlib.lines.Line2D at 0x272ddc8da00>],\n",
       " 'means': []}"
      ]
     },
     "execution_count": 16,
     "metadata": {},
     "output_type": "execute_result"
    },
    {
     "data": {
      "image/png": "[encoded data removed]",
      "text/plain": [
       "<Figure size 432x288 with 1 Axes>"
      ]
     },
     "metadata": {
      "needs_background": "light"
     },
     "output_type": "display_data"
    }
   ],
   "source": [
    "plt.boxplot(train['avg_hrs_month'])"
   ]
  },
  {
   "cell_type": "markdown",
   "id": "c4fdd642",
   "metadata": {},
   "source": [
    "Use the boruta method fo feature selection"
   ]
  },
  {
   "cell_type": "code",
   "execution_count": 17,
   "id": "9eb7da00",
   "metadata": {},
   "outputs": [],
   "source": [
    "from sklearn.ensemble import RandomForestClassifier\n",
    "rf = RandomForestClassifier()\n",
    "boruta = BorutaPy(rf,n_estimators='auto',verbose=2, random_state=1)"
   ]
  },
  {
   "cell_type": "code",
   "execution_count": 34,
   "id": "9f55e10b",
   "metadata": {},
   "outputs": [
    {
     "data": {
      "text/plain": [
       "['deptonehot__x0_IT',\n",
       " 'deptonehot__x0_admin',\n",
       " 'deptonehot__x0_engineering',\n",
       " 'deptonehot__x0_finance',\n",
       " 'deptonehot__x0_logistics',\n",
       " 'deptonehot__x0_marketing',\n",
       " 'deptonehot__x0_operations',\n",
       " 'deptonehot__x0_retail',\n",
       " 'deptonehot__x0_sales',\n",
       " 'deptonehot__x0_support',\n",
       " 'promoted',\n",
       " 'review',\n",
       " 'projects',\n",
       " 'salary',\n",
       " 'tenure',\n",
       " 'satisfaction',\n",
       " 'bonus',\n",
       " 'avg_hrs_month',\n",
       " 'left']"
      ]
     },
     "execution_count": 34,
     "metadata": {},
     "output_type": "execute_result"
    }
   ],
   "source": [
    "#Preprocess data for boruta usage\n",
    "from sklearn.compose import ColumnTransformer\n",
    "from sklearn.preprocessing import OneHotEncoder\n",
    "train_copy = train.copy()\n",
    "recode = {'yes':1,'no':0}\n",
    "recode2 = {'low':1,'medium':2,'high':3}\n",
    "train_copy['left'] = train_copy['left'].map(recode)\n",
    "train_copy['salary'] = train_copy['salary'].map(recode2)\n",
    "ct = ColumnTransformer([('deptonehot',OneHotEncoder(dtype=int),['department'])],\n",
    "                       remainder='passthrough')\n",
    "preprocessed_train = ct.fit_transform(train_copy)\n",
    "ct.get_feature_names()"
   ]
  },
  {
   "cell_type": "code",
   "execution_count": 35,
   "id": "f7ff8212",
   "metadata": {},
   "outputs": [
    {
     "name": "stdout",
     "output_type": "stream",
     "text": [
      "Iteration: \t1 / 100\n",
      "Confirmed: \t0\n",
      "Tentative: \t18\n",
      "Rejected: \t0\n",
      "Iteration: \t2 / 100\n",
      "Confirmed: \t0\n",
      "Tentative: \t18\n",
      "Rejected: \t0\n",
      "Iteration: \t3 / 100\n",
      "Confirmed: \t0\n",
      "Tentative: \t18\n",
      "Rejected: \t0\n",
      "Iteration: \t4 / 100\n",
      "Confirmed: \t0\n",
      "Tentative: \t18\n",
      "Rejected: \t0\n",
      "Iteration: \t5 / 100\n",
      "Confirmed: \t0\n",
      "Tentative: \t18\n",
      "Rejected: \t0\n",
      "Iteration: \t6 / 100\n",
      "Confirmed: \t0\n",
      "Tentative: \t18\n",
      "Rejected: \t0\n",
      "Iteration: \t7 / 100\n",
      "Confirmed: \t0\n",
      "Tentative: \t18\n",
      "Rejected: \t0\n",
      "Iteration: \t8 / 100\n",
      "Confirmed: \t4\n",
      "Tentative: \t0\n",
      "Rejected: \t14\n",
      "\n",
      "\n",
      "BorutaPy finished running.\n",
      "\n",
      "Iteration: \t9 / 100\n",
      "Confirmed: \t4\n",
      "Tentative: \t0\n",
      "Rejected: \t14\n"
     ]
    },
    {
     "data": {
      "text/plain": [
       "BorutaPy(alpha=0.05,\n",
       "         estimator=RandomForestClassifier(bootstrap=True, ccp_alpha=0.0,\n",
       "                                          class_weight=None, criterion='gini',\n",
       "                                          max_depth=None, max_features='auto',\n",
       "                                          max_leaf_nodes=None, max_samples=None,\n",
       "                                          min_impurity_decrease=0.0,\n",
       "                                          min_impurity_split=None,\n",
       "                                          min_samples_leaf=1,\n",
       "                                          min_samples_split=2,\n",
       "                                          min_weight_fraction_leaf=0.0,\n",
       "                                          n_estimators=60, n_jobs=None,\n",
       "                                          oob_score=False,\n",
       "                                          random_state=RandomState(MT19937) at 0x272E164FA40,\n",
       "                                          verbose=0, warm_start=False),\n",
       "         max_iter=100, n_estimators='auto', perc=100,\n",
       "         random_state=RandomState(MT19937) at 0x272E164FA40, two_step=True,\n",
       "         verbose=2)"
      ]
     },
     "execution_count": 35,
     "metadata": {},
     "output_type": "execute_result"
    }
   ],
   "source": [
    "target = train_copy['left'].values\n",
    "boruta.fit(preprocessed_train[:,:18],target)"
   ]
  },
  {
   "cell_type": "code",
   "execution_count": 36,
   "id": "7c6a4b67",
   "metadata": {},
   "outputs": [
    {
     "data": {
      "text/plain": [
       "array([False, False, False, False, False, False, False, False, False,\n",
       "       False, False,  True, False, False,  True,  True, False,  True])"
      ]
     },
     "execution_count": 36,
     "metadata": {},
     "output_type": "execute_result"
    }
   ],
   "source": [
    "boruta.support_"
   ]
  },
  {
   "cell_type": "code",
   "execution_count": 41,
   "id": "bf4fd605",
   "metadata": {},
   "outputs": [
    {
     "name": "stdout",
     "output_type": "stream",
     "text": [
      "['deptonehot__x0_IT', 'deptonehot__x0_admin', 'deptonehot__x0_engineering', 'deptonehot__x0_finance', 'deptonehot__x0_logistics', 'deptonehot__x0_marketing', 'deptonehot__x0_operations', 'deptonehot__x0_retail', 'deptonehot__x0_sales', 'deptonehot__x0_support', 'promoted', 'review', 'projects', 'salary', 'tenure', 'satisfaction', 'bonus', 'avg_hrs_month', 'left']\n"
     ]
    }
   ],
   "source": [
    "#print(train_copy.shape)\n",
    "#print(preprocessed_train.shape)\n",
    "print(ct.get_feature_names())"
   ]
  },
  {
   "cell_type": "markdown",
   "id": "e5937b73",
   "metadata": {},
   "source": [
    "Selected features are review, salary, tenure, satisfaction, and avg_hours_month.\n",
    "\n",
    "Based on the box plots of these features shown earlier, some univariate outliers are present. Let us look for multivariate outliers using the (squared) Mahalanobis Distance and using a standard cut-off to find outliers and remove them. We will use the MCD estimate of robust covariance and robust mean as introduced by P.J.Rousseuw (1999), because the empirical estimates of covariance and mean are sensitive to outliers.\n",
    "\n",
    "The squared Mahalanobis distance follows a chi-square distribution with the degrees of freedom being equal to the number of features used. The cut-off used will be the quantile corresponding to the 95th percentile."
   ]
  },
  {
   "cell_type": "code",
   "execution_count": 42,
   "id": "b1bb4a73",
   "metadata": {},
   "outputs": [],
   "source": [
    "#Get the features chosen by the boruta method\n",
    "train_filtered = train[['review','tenure','satisfaction','avg_hrs_month','left']]\n",
    "\n",
    "'''''''''\n",
    "#Mahalanobis Distance\n",
    "cov = np.cov(train_filtered.iloc[:,:4],rowvar=False)   #Covariance matrix\n",
    "inv_covmat = np.linalg.inv(cov)                        #Inverse of covariance matrix\n",
    "mean = np.mean(train_filtered.iloc[:,:4])\n",
    "distances = []\n",
    "for i, val in enumerate(train_filtered.iloc[:,:4].values):\n",
    "    diff = val - mean  \n",
    "    vector = diff.T\n",
    "    left_term = np.dot(vector, inv_covmat) \n",
    "    distance_squared = np.dot(left_term, diff)\n",
    "    distances.append(distance_squared)\n",
    "distances = np.array(distances)\n",
    "'''''''''\n",
    "#Mahalanobis Distance using MCD\n",
    "from sklearn.covariance import MinCovDet as MCD\n",
    "cov = MCD(random_state=1).fit(X=train_filtered.iloc[:,:4])\n",
    "distance = cov.mahalanobis(train_filtered.iloc[:,:4])\n",
    "\n",
    "#Apply cutoff to find outliers\n",
    "from scipy.stats import chi2\n",
    "cutoff = chi2.ppf(0.95, train_filtered.iloc[:,:4].shape[1])\n",
    "outlier_indexes = np.where(distance > cutoff)\n"
   ]
  },
  {
   "cell_type": "code",
   "execution_count": 43,
   "id": "3d88c850",
   "metadata": {},
   "outputs": [
    {
     "name": "stdout",
     "output_type": "stream",
     "text": [
      "9.487729036781154\n",
      "98.35935035793716\n",
      "[   3    8   13 ... 7596 7598 7619]\n",
      "(1007,)\n"
     ]
    }
   ],
   "source": [
    "print(cutoff)\n",
    "print(max(distance))\n",
    "print(outlier_indexes[0])\n",
    "print(outlier_indexes[0].shape)"
   ]
  },
  {
   "cell_type": "markdown",
   "id": "57a7d10e",
   "metadata": {},
   "source": [
    "1007 outliers have been detected. Let us remove these outliers and train a model."
   ]
  },
  {
   "cell_type": "code",
   "execution_count": 44,
   "id": "03980719",
   "metadata": {},
   "outputs": [],
   "source": [
    "outliers = outlier_indexes[0]\n",
    "train_no_outliers = train_filtered.drop(outliers,axis=0)"
   ]
  },
  {
   "cell_type": "code",
   "execution_count": 45,
   "id": "74ef84d1",
   "metadata": {},
   "outputs": [
    {
     "name": "stdout",
     "output_type": "stream",
     "text": [
      "(7632, 5)\n",
      "(6625, 5)\n"
     ]
    }
   ],
   "source": [
    "print(train_filtered.shape)\n",
    "print(train_no_outliers.shape)"
   ]
  },
  {
   "cell_type": "code",
   "execution_count": 46,
   "id": "5c8558a8",
   "metadata": {},
   "outputs": [
    {
     "data": {
      "text/html": [
       "<style type=\"text/css\">\n",
       "#T_c41b3_row44_col1 {\n",
       "  background-color: lightgreen;\n",
       "}\n",
       "</style>\n",
       "<table id=\"T_c41b3\">\n",
       "  <thead>\n",
       "    <tr>\n",
       "      <th class=\"blank level0\" >&nbsp;</th>\n",
       "      <th id=\"T_c41b3_level0_col0\" class=\"col_heading level0 col0\" >Description</th>\n",
       "      <th id=\"T_c41b3_level0_col1\" class=\"col_heading level0 col1\" >Value</th>\n",
       "    </tr>\n",
       "  </thead>\n",
       "  <tbody>\n",
       "    <tr>\n",
       "      <th id=\"T_c41b3_level0_row0\" class=\"row_heading level0 row0\" >0</th>\n",
       "      <td id=\"T_c41b3_row0_col0\" class=\"data row0 col0\" >session_id</td>\n",
       "      <td id=\"T_c41b3_row0_col1\" class=\"data row0 col1\" >4996</td>\n",
       "    </tr>\n",
       "    <tr>\n",
       "      <th id=\"T_c41b3_level0_row1\" class=\"row_heading level0 row1\" >1</th>\n",
       "      <td id=\"T_c41b3_row1_col0\" class=\"data row1 col0\" >Target</td>\n",
       "      <td id=\"T_c41b3_row1_col1\" class=\"data row1 col1\" >left</td>\n",
       "    </tr>\n",
       "    <tr>\n",
       "      <th id=\"T_c41b3_level0_row2\" class=\"row_heading level0 row2\" >2</th>\n",
       "      <td id=\"T_c41b3_row2_col0\" class=\"data row2 col0\" >Target Type</td>\n",
       "      <td id=\"T_c41b3_row2_col1\" class=\"data row2 col1\" >Binary</td>\n",
       "    </tr>\n",
       "    <tr>\n",
       "      <th id=\"T_c41b3_level0_row3\" class=\"row_heading level0 row3\" >3</th>\n",
       "      <td id=\"T_c41b3_row3_col0\" class=\"data row3 col0\" >Label Encoded</td>\n",
       "      <td id=\"T_c41b3_row3_col1\" class=\"data row3 col1\" >no: 0, yes: 1</td>\n",
       "    </tr>\n",
       "    <tr>\n",
       "      <th id=\"T_c41b3_level0_row4\" class=\"row_heading level0 row4\" >4</th>\n",
       "      <td id=\"T_c41b3_row4_col0\" class=\"data row4 col0\" >Original Data</td>\n",
       "      <td id=\"T_c41b3_row4_col1\" class=\"data row4 col1\" >(6625, 5)</td>\n",
       "    </tr>\n",
       "    <tr>\n",
       "      <th id=\"T_c41b3_level0_row5\" class=\"row_heading level0 row5\" >5</th>\n",
       "      <td id=\"T_c41b3_row5_col0\" class=\"data row5 col0\" >Missing Values</td>\n",
       "      <td id=\"T_c41b3_row5_col1\" class=\"data row5 col1\" >False</td>\n",
       "    </tr>\n",
       "    <tr>\n",
       "      <th id=\"T_c41b3_level0_row6\" class=\"row_heading level0 row6\" >6</th>\n",
       "      <td id=\"T_c41b3_row6_col0\" class=\"data row6 col0\" >Numeric Features</td>\n",
       "      <td id=\"T_c41b3_row6_col1\" class=\"data row6 col1\" >4</td>\n",
       "    </tr>\n",
       "    <tr>\n",
       "      <th id=\"T_c41b3_level0_row7\" class=\"row_heading level0 row7\" >7</th>\n",
       "      <td id=\"T_c41b3_row7_col0\" class=\"data row7 col0\" >Categorical Features</td>\n",
       "      <td id=\"T_c41b3_row7_col1\" class=\"data row7 col1\" >0</td>\n",
       "    </tr>\n",
       "    <tr>\n",
       "      <th id=\"T_c41b3_level0_row8\" class=\"row_heading level0 row8\" >8</th>\n",
       "      <td id=\"T_c41b3_row8_col0\" class=\"data row8 col0\" >Ordinal Features</td>\n",
       "      <td id=\"T_c41b3_row8_col1\" class=\"data row8 col1\" >False</td>\n",
       "    </tr>\n",
       "    <tr>\n",
       "      <th id=\"T_c41b3_level0_row9\" class=\"row_heading level0 row9\" >9</th>\n",
       "      <td id=\"T_c41b3_row9_col0\" class=\"data row9 col0\" >High Cardinality Features</td>\n",
       "      <td id=\"T_c41b3_row9_col1\" class=\"data row9 col1\" >False</td>\n",
       "    </tr>\n",
       "    <tr>\n",
       "      <th id=\"T_c41b3_level0_row10\" class=\"row_heading level0 row10\" >10</th>\n",
       "      <td id=\"T_c41b3_row10_col0\" class=\"data row10 col0\" >High Cardinality Method</td>\n",
       "      <td id=\"T_c41b3_row10_col1\" class=\"data row10 col1\" >None</td>\n",
       "    </tr>\n",
       "    <tr>\n",
       "      <th id=\"T_c41b3_level0_row11\" class=\"row_heading level0 row11\" >11</th>\n",
       "      <td id=\"T_c41b3_row11_col0\" class=\"data row11 col0\" >Transformed Train Set</td>\n",
       "      <td id=\"T_c41b3_row11_col1\" class=\"data row11 col1\" >(4637, 4)</td>\n",
       "    </tr>\n",
       "    <tr>\n",
       "      <th id=\"T_c41b3_level0_row12\" class=\"row_heading level0 row12\" >12</th>\n",
       "      <td id=\"T_c41b3_row12_col0\" class=\"data row12 col0\" >Transformed Test Set</td>\n",
       "      <td id=\"T_c41b3_row12_col1\" class=\"data row12 col1\" >(1988, 4)</td>\n",
       "    </tr>\n",
       "    <tr>\n",
       "      <th id=\"T_c41b3_level0_row13\" class=\"row_heading level0 row13\" >13</th>\n",
       "      <td id=\"T_c41b3_row13_col0\" class=\"data row13 col0\" >Shuffle Train-Test</td>\n",
       "      <td id=\"T_c41b3_row13_col1\" class=\"data row13 col1\" >True</td>\n",
       "    </tr>\n",
       "    <tr>\n",
       "      <th id=\"T_c41b3_level0_row14\" class=\"row_heading level0 row14\" >14</th>\n",
       "      <td id=\"T_c41b3_row14_col0\" class=\"data row14 col0\" >Stratify Train-Test</td>\n",
       "      <td id=\"T_c41b3_row14_col1\" class=\"data row14 col1\" >False</td>\n",
       "    </tr>\n",
       "    <tr>\n",
       "      <th id=\"T_c41b3_level0_row15\" class=\"row_heading level0 row15\" >15</th>\n",
       "      <td id=\"T_c41b3_row15_col0\" class=\"data row15 col0\" >Fold Generator</td>\n",
       "      <td id=\"T_c41b3_row15_col1\" class=\"data row15 col1\" >StratifiedKFold</td>\n",
       "    </tr>\n",
       "    <tr>\n",
       "      <th id=\"T_c41b3_level0_row16\" class=\"row_heading level0 row16\" >16</th>\n",
       "      <td id=\"T_c41b3_row16_col0\" class=\"data row16 col0\" >Fold Number</td>\n",
       "      <td id=\"T_c41b3_row16_col1\" class=\"data row16 col1\" >10</td>\n",
       "    </tr>\n",
       "    <tr>\n",
       "      <th id=\"T_c41b3_level0_row17\" class=\"row_heading level0 row17\" >17</th>\n",
       "      <td id=\"T_c41b3_row17_col0\" class=\"data row17 col0\" >CPU Jobs</td>\n",
       "      <td id=\"T_c41b3_row17_col1\" class=\"data row17 col1\" >-1</td>\n",
       "    </tr>\n",
       "    <tr>\n",
       "      <th id=\"T_c41b3_level0_row18\" class=\"row_heading level0 row18\" >18</th>\n",
       "      <td id=\"T_c41b3_row18_col0\" class=\"data row18 col0\" >Use GPU</td>\n",
       "      <td id=\"T_c41b3_row18_col1\" class=\"data row18 col1\" >False</td>\n",
       "    </tr>\n",
       "    <tr>\n",
       "      <th id=\"T_c41b3_level0_row19\" class=\"row_heading level0 row19\" >19</th>\n",
       "      <td id=\"T_c41b3_row19_col0\" class=\"data row19 col0\" >Log Experiment</td>\n",
       "      <td id=\"T_c41b3_row19_col1\" class=\"data row19 col1\" >False</td>\n",
       "    </tr>\n",
       "    <tr>\n",
       "      <th id=\"T_c41b3_level0_row20\" class=\"row_heading level0 row20\" >20</th>\n",
       "      <td id=\"T_c41b3_row20_col0\" class=\"data row20 col0\" >Experiment Name</td>\n",
       "      <td id=\"T_c41b3_row20_col1\" class=\"data row20 col1\" >clf-default-name</td>\n",
       "    </tr>\n",
       "    <tr>\n",
       "      <th id=\"T_c41b3_level0_row21\" class=\"row_heading level0 row21\" >21</th>\n",
       "      <td id=\"T_c41b3_row21_col0\" class=\"data row21 col0\" >USI</td>\n",
       "      <td id=\"T_c41b3_row21_col1\" class=\"data row21 col1\" >e8e7</td>\n",
       "    </tr>\n",
       "    <tr>\n",
       "      <th id=\"T_c41b3_level0_row22\" class=\"row_heading level0 row22\" >22</th>\n",
       "      <td id=\"T_c41b3_row22_col0\" class=\"data row22 col0\" >Imputation Type</td>\n",
       "      <td id=\"T_c41b3_row22_col1\" class=\"data row22 col1\" >simple</td>\n",
       "    </tr>\n",
       "    <tr>\n",
       "      <th id=\"T_c41b3_level0_row23\" class=\"row_heading level0 row23\" >23</th>\n",
       "      <td id=\"T_c41b3_row23_col0\" class=\"data row23 col0\" >Iterative Imputation Iteration</td>\n",
       "      <td id=\"T_c41b3_row23_col1\" class=\"data row23 col1\" >None</td>\n",
       "    </tr>\n",
       "    <tr>\n",
       "      <th id=\"T_c41b3_level0_row24\" class=\"row_heading level0 row24\" >24</th>\n",
       "      <td id=\"T_c41b3_row24_col0\" class=\"data row24 col0\" >Numeric Imputer</td>\n",
       "      <td id=\"T_c41b3_row24_col1\" class=\"data row24 col1\" >mean</td>\n",
       "    </tr>\n",
       "    <tr>\n",
       "      <th id=\"T_c41b3_level0_row25\" class=\"row_heading level0 row25\" >25</th>\n",
       "      <td id=\"T_c41b3_row25_col0\" class=\"data row25 col0\" >Iterative Imputation Numeric Model</td>\n",
       "      <td id=\"T_c41b3_row25_col1\" class=\"data row25 col1\" >None</td>\n",
       "    </tr>\n",
       "    <tr>\n",
       "      <th id=\"T_c41b3_level0_row26\" class=\"row_heading level0 row26\" >26</th>\n",
       "      <td id=\"T_c41b3_row26_col0\" class=\"data row26 col0\" >Categorical Imputer</td>\n",
       "      <td id=\"T_c41b3_row26_col1\" class=\"data row26 col1\" >constant</td>\n",
       "    </tr>\n",
       "    <tr>\n",
       "      <th id=\"T_c41b3_level0_row27\" class=\"row_heading level0 row27\" >27</th>\n",
       "      <td id=\"T_c41b3_row27_col0\" class=\"data row27 col0\" >Iterative Imputation Categorical Model</td>\n",
       "      <td id=\"T_c41b3_row27_col1\" class=\"data row27 col1\" >None</td>\n",
       "    </tr>\n",
       "    <tr>\n",
       "      <th id=\"T_c41b3_level0_row28\" class=\"row_heading level0 row28\" >28</th>\n",
       "      <td id=\"T_c41b3_row28_col0\" class=\"data row28 col0\" >Unknown Categoricals Handling</td>\n",
       "      <td id=\"T_c41b3_row28_col1\" class=\"data row28 col1\" >least_frequent</td>\n",
       "    </tr>\n",
       "    <tr>\n",
       "      <th id=\"T_c41b3_level0_row29\" class=\"row_heading level0 row29\" >29</th>\n",
       "      <td id=\"T_c41b3_row29_col0\" class=\"data row29 col0\" >Normalize</td>\n",
       "      <td id=\"T_c41b3_row29_col1\" class=\"data row29 col1\" >False</td>\n",
       "    </tr>\n",
       "    <tr>\n",
       "      <th id=\"T_c41b3_level0_row30\" class=\"row_heading level0 row30\" >30</th>\n",
       "      <td id=\"T_c41b3_row30_col0\" class=\"data row30 col0\" >Normalize Method</td>\n",
       "      <td id=\"T_c41b3_row30_col1\" class=\"data row30 col1\" >None</td>\n",
       "    </tr>\n",
       "    <tr>\n",
       "      <th id=\"T_c41b3_level0_row31\" class=\"row_heading level0 row31\" >31</th>\n",
       "      <td id=\"T_c41b3_row31_col0\" class=\"data row31 col0\" >Transformation</td>\n",
       "      <td id=\"T_c41b3_row31_col1\" class=\"data row31 col1\" >False</td>\n",
       "    </tr>\n",
       "    <tr>\n",
       "      <th id=\"T_c41b3_level0_row32\" class=\"row_heading level0 row32\" >32</th>\n",
       "      <td id=\"T_c41b3_row32_col0\" class=\"data row32 col0\" >Transformation Method</td>\n",
       "      <td id=\"T_c41b3_row32_col1\" class=\"data row32 col1\" >None</td>\n",
       "    </tr>\n",
       "    <tr>\n",
       "      <th id=\"T_c41b3_level0_row33\" class=\"row_heading level0 row33\" >33</th>\n",
       "      <td id=\"T_c41b3_row33_col0\" class=\"data row33 col0\" >PCA</td>\n",
       "      <td id=\"T_c41b3_row33_col1\" class=\"data row33 col1\" >False</td>\n",
       "    </tr>\n",
       "    <tr>\n",
       "      <th id=\"T_c41b3_level0_row34\" class=\"row_heading level0 row34\" >34</th>\n",
       "      <td id=\"T_c41b3_row34_col0\" class=\"data row34 col0\" >PCA Method</td>\n",
       "      <td id=\"T_c41b3_row34_col1\" class=\"data row34 col1\" >None</td>\n",
       "    </tr>\n",
       "    <tr>\n",
       "      <th id=\"T_c41b3_level0_row35\" class=\"row_heading level0 row35\" >35</th>\n",
       "      <td id=\"T_c41b3_row35_col0\" class=\"data row35 col0\" >PCA Components</td>\n",
       "      <td id=\"T_c41b3_row35_col1\" class=\"data row35 col1\" >None</td>\n",
       "    </tr>\n",
       "    <tr>\n",
       "      <th id=\"T_c41b3_level0_row36\" class=\"row_heading level0 row36\" >36</th>\n",
       "      <td id=\"T_c41b3_row36_col0\" class=\"data row36 col0\" >Ignore Low Variance</td>\n",
       "      <td id=\"T_c41b3_row36_col1\" class=\"data row36 col1\" >False</td>\n",
       "    </tr>\n",
       "    <tr>\n",
       "      <th id=\"T_c41b3_level0_row37\" class=\"row_heading level0 row37\" >37</th>\n",
       "      <td id=\"T_c41b3_row37_col0\" class=\"data row37 col0\" >Combine Rare Levels</td>\n",
       "      <td id=\"T_c41b3_row37_col1\" class=\"data row37 col1\" >False</td>\n",
       "    </tr>\n",
       "    <tr>\n",
       "      <th id=\"T_c41b3_level0_row38\" class=\"row_heading level0 row38\" >38</th>\n",
       "      <td id=\"T_c41b3_row38_col0\" class=\"data row38 col0\" >Rare Level Threshold</td>\n",
       "      <td id=\"T_c41b3_row38_col1\" class=\"data row38 col1\" >None</td>\n",
       "    </tr>\n",
       "    <tr>\n",
       "      <th id=\"T_c41b3_level0_row39\" class=\"row_heading level0 row39\" >39</th>\n",
       "      <td id=\"T_c41b3_row39_col0\" class=\"data row39 col0\" >Numeric Binning</td>\n",
       "      <td id=\"T_c41b3_row39_col1\" class=\"data row39 col1\" >False</td>\n",
       "    </tr>\n",
       "    <tr>\n",
       "      <th id=\"T_c41b3_level0_row40\" class=\"row_heading level0 row40\" >40</th>\n",
       "      <td id=\"T_c41b3_row40_col0\" class=\"data row40 col0\" >Remove Outliers</td>\n",
       "      <td id=\"T_c41b3_row40_col1\" class=\"data row40 col1\" >False</td>\n",
       "    </tr>\n",
       "    <tr>\n",
       "      <th id=\"T_c41b3_level0_row41\" class=\"row_heading level0 row41\" >41</th>\n",
       "      <td id=\"T_c41b3_row41_col0\" class=\"data row41 col0\" >Outliers Threshold</td>\n",
       "      <td id=\"T_c41b3_row41_col1\" class=\"data row41 col1\" >None</td>\n",
       "    </tr>\n",
       "    <tr>\n",
       "      <th id=\"T_c41b3_level0_row42\" class=\"row_heading level0 row42\" >42</th>\n",
       "      <td id=\"T_c41b3_row42_col0\" class=\"data row42 col0\" >Remove Multicollinearity</td>\n",
       "      <td id=\"T_c41b3_row42_col1\" class=\"data row42 col1\" >False</td>\n",
       "    </tr>\n",
       "    <tr>\n",
       "      <th id=\"T_c41b3_level0_row43\" class=\"row_heading level0 row43\" >43</th>\n",
       "      <td id=\"T_c41b3_row43_col0\" class=\"data row43 col0\" >Multicollinearity Threshold</td>\n",
       "      <td id=\"T_c41b3_row43_col1\" class=\"data row43 col1\" >None</td>\n",
       "    </tr>\n",
       "    <tr>\n",
       "      <th id=\"T_c41b3_level0_row44\" class=\"row_heading level0 row44\" >44</th>\n",
       "      <td id=\"T_c41b3_row44_col0\" class=\"data row44 col0\" >Remove Perfect Collinearity</td>\n",
       "      <td id=\"T_c41b3_row44_col1\" class=\"data row44 col1\" >True</td>\n",
       "    </tr>\n",
       "    <tr>\n",
       "      <th id=\"T_c41b3_level0_row45\" class=\"row_heading level0 row45\" >45</th>\n",
       "      <td id=\"T_c41b3_row45_col0\" class=\"data row45 col0\" >Clustering</td>\n",
       "      <td id=\"T_c41b3_row45_col1\" class=\"data row45 col1\" >False</td>\n",
       "    </tr>\n",
       "    <tr>\n",
       "      <th id=\"T_c41b3_level0_row46\" class=\"row_heading level0 row46\" >46</th>\n",
       "      <td id=\"T_c41b3_row46_col0\" class=\"data row46 col0\" >Clustering Iteration</td>\n",
       "      <td id=\"T_c41b3_row46_col1\" class=\"data row46 col1\" >None</td>\n",
       "    </tr>\n",
       "    <tr>\n",
       "      <th id=\"T_c41b3_level0_row47\" class=\"row_heading level0 row47\" >47</th>\n",
       "      <td id=\"T_c41b3_row47_col0\" class=\"data row47 col0\" >Polynomial Features</td>\n",
       "      <td id=\"T_c41b3_row47_col1\" class=\"data row47 col1\" >False</td>\n",
       "    </tr>\n",
       "    <tr>\n",
       "      <th id=\"T_c41b3_level0_row48\" class=\"row_heading level0 row48\" >48</th>\n",
       "      <td id=\"T_c41b3_row48_col0\" class=\"data row48 col0\" >Polynomial Degree</td>\n",
       "      <td id=\"T_c41b3_row48_col1\" class=\"data row48 col1\" >None</td>\n",
       "    </tr>\n",
       "    <tr>\n",
       "      <th id=\"T_c41b3_level0_row49\" class=\"row_heading level0 row49\" >49</th>\n",
       "      <td id=\"T_c41b3_row49_col0\" class=\"data row49 col0\" >Trignometry Features</td>\n",
       "      <td id=\"T_c41b3_row49_col1\" class=\"data row49 col1\" >False</td>\n",
       "    </tr>\n",
       "    <tr>\n",
       "      <th id=\"T_c41b3_level0_row50\" class=\"row_heading level0 row50\" >50</th>\n",
       "      <td id=\"T_c41b3_row50_col0\" class=\"data row50 col0\" >Polynomial Threshold</td>\n",
       "      <td id=\"T_c41b3_row50_col1\" class=\"data row50 col1\" >None</td>\n",
       "    </tr>\n",
       "    <tr>\n",
       "      <th id=\"T_c41b3_level0_row51\" class=\"row_heading level0 row51\" >51</th>\n",
       "      <td id=\"T_c41b3_row51_col0\" class=\"data row51 col0\" >Group Features</td>\n",
       "      <td id=\"T_c41b3_row51_col1\" class=\"data row51 col1\" >False</td>\n",
       "    </tr>\n",
       "    <tr>\n",
       "      <th id=\"T_c41b3_level0_row52\" class=\"row_heading level0 row52\" >52</th>\n",
       "      <td id=\"T_c41b3_row52_col0\" class=\"data row52 col0\" >Feature Selection</td>\n",
       "      <td id=\"T_c41b3_row52_col1\" class=\"data row52 col1\" >False</td>\n",
       "    </tr>\n",
       "    <tr>\n",
       "      <th id=\"T_c41b3_level0_row53\" class=\"row_heading level0 row53\" >53</th>\n",
       "      <td id=\"T_c41b3_row53_col0\" class=\"data row53 col0\" >Feature Selection Method</td>\n",
       "      <td id=\"T_c41b3_row53_col1\" class=\"data row53 col1\" >classic</td>\n",
       "    </tr>\n",
       "    <tr>\n",
       "      <th id=\"T_c41b3_level0_row54\" class=\"row_heading level0 row54\" >54</th>\n",
       "      <td id=\"T_c41b3_row54_col0\" class=\"data row54 col0\" >Features Selection Threshold</td>\n",
       "      <td id=\"T_c41b3_row54_col1\" class=\"data row54 col1\" >None</td>\n",
       "    </tr>\n",
       "    <tr>\n",
       "      <th id=\"T_c41b3_level0_row55\" class=\"row_heading level0 row55\" >55</th>\n",
       "      <td id=\"T_c41b3_row55_col0\" class=\"data row55 col0\" >Feature Interaction</td>\n",
       "      <td id=\"T_c41b3_row55_col1\" class=\"data row55 col1\" >False</td>\n",
       "    </tr>\n",
       "    <tr>\n",
       "      <th id=\"T_c41b3_level0_row56\" class=\"row_heading level0 row56\" >56</th>\n",
       "      <td id=\"T_c41b3_row56_col0\" class=\"data row56 col0\" >Feature Ratio</td>\n",
       "      <td id=\"T_c41b3_row56_col1\" class=\"data row56 col1\" >False</td>\n",
       "    </tr>\n",
       "    <tr>\n",
       "      <th id=\"T_c41b3_level0_row57\" class=\"row_heading level0 row57\" >57</th>\n",
       "      <td id=\"T_c41b3_row57_col0\" class=\"data row57 col0\" >Interaction Threshold</td>\n",
       "      <td id=\"T_c41b3_row57_col1\" class=\"data row57 col1\" >None</td>\n",
       "    </tr>\n",
       "    <tr>\n",
       "      <th id=\"T_c41b3_level0_row58\" class=\"row_heading level0 row58\" >58</th>\n",
       "      <td id=\"T_c41b3_row58_col0\" class=\"data row58 col0\" >Fix Imbalance</td>\n",
       "      <td id=\"T_c41b3_row58_col1\" class=\"data row58 col1\" >False</td>\n",
       "    </tr>\n",
       "    <tr>\n",
       "      <th id=\"T_c41b3_level0_row59\" class=\"row_heading level0 row59\" >59</th>\n",
       "      <td id=\"T_c41b3_row59_col0\" class=\"data row59 col0\" >Fix Imbalance Method</td>\n",
       "      <td id=\"T_c41b3_row59_col1\" class=\"data row59 col1\" >SMOTE</td>\n",
       "    </tr>\n",
       "  </tbody>\n",
       "</table>\n"
      ],
      "text/plain": [
       "<pandas.io.formats.style.Styler at 0x272e16addc0>"
      ]
     },
     "metadata": {},
     "output_type": "display_data"
    }
   ],
   "source": [
    "s = setup(train_no_outliers,'left')"
   ]
  },
  {
   "cell_type": "code",
   "execution_count": 47,
   "id": "73357fbf",
   "metadata": {},
   "outputs": [
    {
     "data": {
      "text/html": [
       "<style type=\"text/css\">\n",
       "#T_d7d47 th {\n",
       "  text-align: left;\n",
       "}\n",
       "#T_d7d47_row0_col0, #T_d7d47_row0_col4, #T_d7d47_row1_col0, #T_d7d47_row1_col1, #T_d7d47_row1_col2, #T_d7d47_row1_col3, #T_d7d47_row1_col5, #T_d7d47_row1_col6, #T_d7d47_row1_col7, #T_d7d47_row2_col0, #T_d7d47_row2_col1, #T_d7d47_row2_col2, #T_d7d47_row2_col3, #T_d7d47_row2_col4, #T_d7d47_row2_col5, #T_d7d47_row2_col6, #T_d7d47_row2_col7, #T_d7d47_row3_col0, #T_d7d47_row3_col1, #T_d7d47_row3_col2, #T_d7d47_row3_col3, #T_d7d47_row3_col4, #T_d7d47_row3_col5, #T_d7d47_row3_col6, #T_d7d47_row3_col7, #T_d7d47_row4_col0, #T_d7d47_row4_col1, #T_d7d47_row4_col2, #T_d7d47_row4_col3, #T_d7d47_row4_col4, #T_d7d47_row4_col5, #T_d7d47_row4_col6, #T_d7d47_row4_col7, #T_d7d47_row5_col0, #T_d7d47_row5_col1, #T_d7d47_row5_col2, #T_d7d47_row5_col3, #T_d7d47_row5_col4, #T_d7d47_row5_col5, #T_d7d47_row5_col6, #T_d7d47_row5_col7, #T_d7d47_row6_col0, #T_d7d47_row6_col1, #T_d7d47_row6_col2, #T_d7d47_row6_col3, #T_d7d47_row6_col4, #T_d7d47_row6_col5, #T_d7d47_row6_col6, #T_d7d47_row6_col7, #T_d7d47_row7_col0, #T_d7d47_row7_col1, #T_d7d47_row7_col2, #T_d7d47_row7_col3, #T_d7d47_row7_col4, #T_d7d47_row7_col5, #T_d7d47_row7_col6, #T_d7d47_row7_col7, #T_d7d47_row8_col0, #T_d7d47_row8_col1, #T_d7d47_row8_col2, #T_d7d47_row8_col3, #T_d7d47_row8_col4, #T_d7d47_row8_col5, #T_d7d47_row8_col6, #T_d7d47_row8_col7, #T_d7d47_row9_col0, #T_d7d47_row9_col1, #T_d7d47_row9_col2, #T_d7d47_row9_col3, #T_d7d47_row9_col4, #T_d7d47_row9_col5, #T_d7d47_row9_col6, #T_d7d47_row9_col7, #T_d7d47_row10_col0, #T_d7d47_row10_col1, #T_d7d47_row10_col2, #T_d7d47_row10_col3, #T_d7d47_row10_col4, #T_d7d47_row10_col5, #T_d7d47_row10_col6, #T_d7d47_row10_col7, #T_d7d47_row11_col0, #T_d7d47_row11_col1, #T_d7d47_row11_col2, #T_d7d47_row11_col3, #T_d7d47_row11_col4, #T_d7d47_row11_col5, #T_d7d47_row11_col6, #T_d7d47_row11_col7, #T_d7d47_row12_col0, #T_d7d47_row12_col1, #T_d7d47_row12_col2, #T_d7d47_row12_col3, #T_d7d47_row12_col4, #T_d7d47_row12_col5, #T_d7d47_row12_col6, #T_d7d47_row12_col7, #T_d7d47_row13_col0, #T_d7d47_row13_col1, #T_d7d47_row13_col2, #T_d7d47_row13_col3, #T_d7d47_row13_col4, #T_d7d47_row13_col5, #T_d7d47_row13_col6, #T_d7d47_row13_col7 {\n",
       "  text-align: left;\n",
       "}\n",
       "#T_d7d47_row0_col1, #T_d7d47_row0_col2, #T_d7d47_row0_col3, #T_d7d47_row0_col5, #T_d7d47_row0_col6, #T_d7d47_row0_col7, #T_d7d47_row1_col4 {\n",
       "  text-align: left;\n",
       "  background-color: yellow;\n",
       "}\n",
       "#T_d7d47_row0_col8, #T_d7d47_row1_col8, #T_d7d47_row2_col8, #T_d7d47_row3_col8, #T_d7d47_row4_col8, #T_d7d47_row5_col8, #T_d7d47_row6_col8, #T_d7d47_row7_col8, #T_d7d47_row8_col8, #T_d7d47_row9_col8, #T_d7d47_row11_col8, #T_d7d47_row12_col8, #T_d7d47_row13_col8 {\n",
       "  text-align: left;\n",
       "  background-color: lightgrey;\n",
       "}\n",
       "#T_d7d47_row10_col8 {\n",
       "  text-align: left;\n",
       "  background-color: yellow;\n",
       "  background-color: lightgrey;\n",
       "}\n",
       "</style>\n",
       "<table id=\"T_d7d47\">\n",
       "  <thead>\n",
       "    <tr>\n",
       "      <th class=\"blank level0\" >&nbsp;</th>\n",
       "      <th id=\"T_d7d47_level0_col0\" class=\"col_heading level0 col0\" >Model</th>\n",
       "      <th id=\"T_d7d47_level0_col1\" class=\"col_heading level0 col1\" >Accuracy</th>\n",
       "      <th id=\"T_d7d47_level0_col2\" class=\"col_heading level0 col2\" >AUC</th>\n",
       "      <th id=\"T_d7d47_level0_col3\" class=\"col_heading level0 col3\" >Recall</th>\n",
       "      <th id=\"T_d7d47_level0_col4\" class=\"col_heading level0 col4\" >Prec.</th>\n",
       "      <th id=\"T_d7d47_level0_col5\" class=\"col_heading level0 col5\" >F1</th>\n",
       "      <th id=\"T_d7d47_level0_col6\" class=\"col_heading level0 col6\" >Kappa</th>\n",
       "      <th id=\"T_d7d47_level0_col7\" class=\"col_heading level0 col7\" >MCC</th>\n",
       "      <th id=\"T_d7d47_level0_col8\" class=\"col_heading level0 col8\" >TT (Sec)</th>\n",
       "    </tr>\n",
       "  </thead>\n",
       "  <tbody>\n",
       "    <tr>\n",
       "      <th id=\"T_d7d47_level0_row0\" class=\"row_heading level0 row0\" >lightgbm</th>\n",
       "      <td id=\"T_d7d47_row0_col0\" class=\"data row0 col0\" >Light Gradient Boosting Machine</td>\n",
       "      <td id=\"T_d7d47_row0_col1\" class=\"data row0 col1\" >0.8538</td>\n",
       "      <td id=\"T_d7d47_row0_col2\" class=\"data row0 col2\" >0.9200</td>\n",
       "      <td id=\"T_d7d47_row0_col3\" class=\"data row0 col3\" >0.7040</td>\n",
       "      <td id=\"T_d7d47_row0_col4\" class=\"data row0 col4\" >0.7877</td>\n",
       "      <td id=\"T_d7d47_row0_col5\" class=\"data row0 col5\" >0.7423</td>\n",
       "      <td id=\"T_d7d47_row0_col6\" class=\"data row0 col6\" >0.6409</td>\n",
       "      <td id=\"T_d7d47_row0_col7\" class=\"data row0 col7\" >0.6438</td>\n",
       "      <td id=\"T_d7d47_row0_col8\" class=\"data row0 col8\" >0.0450</td>\n",
       "    </tr>\n",
       "    <tr>\n",
       "      <th id=\"T_d7d47_level0_row1\" class=\"row_heading level0 row1\" >gbc</th>\n",
       "      <td id=\"T_d7d47_row1_col0\" class=\"data row1 col0\" >Gradient Boosting Classifier</td>\n",
       "      <td id=\"T_d7d47_row1_col1\" class=\"data row1 col1\" >0.8521</td>\n",
       "      <td id=\"T_d7d47_row1_col2\" class=\"data row1 col2\" >0.9132</td>\n",
       "      <td id=\"T_d7d47_row1_col3\" class=\"data row1 col3\" >0.6760</td>\n",
       "      <td id=\"T_d7d47_row1_col4\" class=\"data row1 col4\" >0.8003</td>\n",
       "      <td id=\"T_d7d47_row1_col5\" class=\"data row1 col5\" >0.7319</td>\n",
       "      <td id=\"T_d7d47_row1_col6\" class=\"data row1 col6\" >0.6310</td>\n",
       "      <td id=\"T_d7d47_row1_col7\" class=\"data row1 col7\" >0.6360</td>\n",
       "      <td id=\"T_d7d47_row1_col8\" class=\"data row1 col8\" >0.1840</td>\n",
       "    </tr>\n",
       "    <tr>\n",
       "      <th id=\"T_d7d47_level0_row2\" class=\"row_heading level0 row2\" >rf</th>\n",
       "      <td id=\"T_d7d47_row2_col0\" class=\"data row2 col0\" >Random Forest Classifier</td>\n",
       "      <td id=\"T_d7d47_row2_col1\" class=\"data row2 col1\" >0.8471</td>\n",
       "      <td id=\"T_d7d47_row2_col2\" class=\"data row2 col2\" >0.9113</td>\n",
       "      <td id=\"T_d7d47_row2_col3\" class=\"data row2 col3\" >0.6933</td>\n",
       "      <td id=\"T_d7d47_row2_col4\" class=\"data row2 col4\" >0.7737</td>\n",
       "      <td id=\"T_d7d47_row2_col5\" class=\"data row2 col5\" >0.7305</td>\n",
       "      <td id=\"T_d7d47_row2_col6\" class=\"data row2 col6\" >0.6244</td>\n",
       "      <td id=\"T_d7d47_row2_col7\" class=\"data row2 col7\" >0.6268</td>\n",
       "      <td id=\"T_d7d47_row2_col8\" class=\"data row2 col8\" >0.2630</td>\n",
       "    </tr>\n",
       "    <tr>\n",
       "      <th id=\"T_d7d47_level0_row3\" class=\"row_heading level0 row3\" >et</th>\n",
       "      <td id=\"T_d7d47_row3_col0\" class=\"data row3 col0\" >Extra Trees Classifier</td>\n",
       "      <td id=\"T_d7d47_row3_col1\" class=\"data row3 col1\" >0.8501</td>\n",
       "      <td id=\"T_d7d47_row3_col2\" class=\"data row3 col2\" >0.9105</td>\n",
       "      <td id=\"T_d7d47_row3_col3\" class=\"data row3 col3\" >0.7012</td>\n",
       "      <td id=\"T_d7d47_row3_col4\" class=\"data row3 col4\" >0.7780</td>\n",
       "      <td id=\"T_d7d47_row3_col5\" class=\"data row3 col5\" >0.7367</td>\n",
       "      <td id=\"T_d7d47_row3_col6\" class=\"data row3 col6\" >0.6325</td>\n",
       "      <td id=\"T_d7d47_row3_col7\" class=\"data row3 col7\" >0.6348</td>\n",
       "      <td id=\"T_d7d47_row3_col8\" class=\"data row3 col8\" >0.2290</td>\n",
       "    </tr>\n",
       "    <tr>\n",
       "      <th id=\"T_d7d47_level0_row4\" class=\"row_heading level0 row4\" >knn</th>\n",
       "      <td id=\"T_d7d47_row4_col0\" class=\"data row4 col0\" >K Neighbors Classifier</td>\n",
       "      <td id=\"T_d7d47_row4_col1\" class=\"data row4 col1\" >0.8372</td>\n",
       "      <td id=\"T_d7d47_row4_col2\" class=\"data row4 col2\" >0.8791</td>\n",
       "      <td id=\"T_d7d47_row4_col3\" class=\"data row4 col3\" >0.6853</td>\n",
       "      <td id=\"T_d7d47_row4_col4\" class=\"data row4 col4\" >0.7509</td>\n",
       "      <td id=\"T_d7d47_row4_col5\" class=\"data row4 col5\" >0.7161</td>\n",
       "      <td id=\"T_d7d47_row4_col6\" class=\"data row4 col6\" >0.6024</td>\n",
       "      <td id=\"T_d7d47_row4_col7\" class=\"data row4 col7\" >0.6040</td>\n",
       "      <td id=\"T_d7d47_row4_col8\" class=\"data row4 col8\" >0.0290</td>\n",
       "    </tr>\n",
       "    <tr>\n",
       "      <th id=\"T_d7d47_level0_row5\" class=\"row_heading level0 row5\" >ada</th>\n",
       "      <td id=\"T_d7d47_row5_col0\" class=\"data row5 col0\" >Ada Boost Classifier</td>\n",
       "      <td id=\"T_d7d47_row5_col1\" class=\"data row5 col1\" >0.7589</td>\n",
       "      <td id=\"T_d7d47_row5_col2\" class=\"data row5 col2\" >0.8265</td>\n",
       "      <td id=\"T_d7d47_row5_col3\" class=\"data row5 col3\" >0.4397</td>\n",
       "      <td id=\"T_d7d47_row5_col4\" class=\"data row5 col4\" >0.6456</td>\n",
       "      <td id=\"T_d7d47_row5_col5\" class=\"data row5 col5\" >0.5223</td>\n",
       "      <td id=\"T_d7d47_row5_col6\" class=\"data row5 col6\" >0.3689</td>\n",
       "      <td id=\"T_d7d47_row5_col7\" class=\"data row5 col7\" >0.3815</td>\n",
       "      <td id=\"T_d7d47_row5_col8\" class=\"data row5 col8\" >0.0990</td>\n",
       "    </tr>\n",
       "    <tr>\n",
       "      <th id=\"T_d7d47_level0_row6\" class=\"row_heading level0 row6\" >qda</th>\n",
       "      <td id=\"T_d7d47_row6_col0\" class=\"data row6 col0\" >Quadratic Discriminant Analysis</td>\n",
       "      <td id=\"T_d7d47_row6_col1\" class=\"data row6 col1\" >0.7854</td>\n",
       "      <td id=\"T_d7d47_row6_col2\" class=\"data row6 col2\" >0.8243</td>\n",
       "      <td id=\"T_d7d47_row6_col3\" class=\"data row6 col3\" >0.4505</td>\n",
       "      <td id=\"T_d7d47_row6_col4\" class=\"data row6 col4\" >0.7303</td>\n",
       "      <td id=\"T_d7d47_row6_col5\" class=\"data row6 col5\" >0.5560</td>\n",
       "      <td id=\"T_d7d47_row6_col6\" class=\"data row6 col6\" >0.4255</td>\n",
       "      <td id=\"T_d7d47_row6_col7\" class=\"data row6 col7\" >0.4475</td>\n",
       "      <td id=\"T_d7d47_row6_col8\" class=\"data row6 col8\" >0.0130</td>\n",
       "    </tr>\n",
       "    <tr>\n",
       "      <th id=\"T_d7d47_level0_row7\" class=\"row_heading level0 row7\" >dt</th>\n",
       "      <td id=\"T_d7d47_row7_col0\" class=\"data row7 col0\" >Decision Tree Classifier</td>\n",
       "      <td id=\"T_d7d47_row7_col1\" class=\"data row7 col1\" >0.8098</td>\n",
       "      <td id=\"T_d7d47_row7_col2\" class=\"data row7 col2\" >0.7740</td>\n",
       "      <td id=\"T_d7d47_row7_col3\" class=\"data row7 col3\" >0.6846</td>\n",
       "      <td id=\"T_d7d47_row7_col4\" class=\"data row7 col4\" >0.6828</td>\n",
       "      <td id=\"T_d7d47_row7_col5\" class=\"data row7 col5\" >0.6831</td>\n",
       "      <td id=\"T_d7d47_row7_col6\" class=\"data row7 col6\" >0.5473</td>\n",
       "      <td id=\"T_d7d47_row7_col7\" class=\"data row7 col7\" >0.5478</td>\n",
       "      <td id=\"T_d7d47_row7_col8\" class=\"data row7 col8\" >0.0150</td>\n",
       "    </tr>\n",
       "    <tr>\n",
       "      <th id=\"T_d7d47_level0_row8\" class=\"row_heading level0 row8\" >lda</th>\n",
       "      <td id=\"T_d7d47_row8_col0\" class=\"data row8 col0\" >Linear Discriminant Analysis</td>\n",
       "      <td id=\"T_d7d47_row8_col1\" class=\"data row8 col1\" >0.7194</td>\n",
       "      <td id=\"T_d7d47_row8_col2\" class=\"data row8 col2\" >0.7109</td>\n",
       "      <td id=\"T_d7d47_row8_col3\" class=\"data row8 col3\" >0.2465</td>\n",
       "      <td id=\"T_d7d47_row8_col4\" class=\"data row8 col4\" >0.5782</td>\n",
       "      <td id=\"T_d7d47_row8_col5\" class=\"data row8 col5\" >0.3445</td>\n",
       "      <td id=\"T_d7d47_row8_col6\" class=\"data row8 col6\" >0.2016</td>\n",
       "      <td id=\"T_d7d47_row8_col7\" class=\"data row8 col7\" >0.2317</td>\n",
       "      <td id=\"T_d7d47_row8_col8\" class=\"data row8 col8\" >0.0100</td>\n",
       "    </tr>\n",
       "    <tr>\n",
       "      <th id=\"T_d7d47_level0_row9\" class=\"row_heading level0 row9\" >lr</th>\n",
       "      <td id=\"T_d7d47_row9_col0\" class=\"data row9 col0\" >Logistic Regression</td>\n",
       "      <td id=\"T_d7d47_row9_col1\" class=\"data row9 col1\" >0.7119</td>\n",
       "      <td id=\"T_d7d47_row9_col2\" class=\"data row9 col2\" >0.7049</td>\n",
       "      <td id=\"T_d7d47_row9_col3\" class=\"data row9 col3\" >0.1258</td>\n",
       "      <td id=\"T_d7d47_row9_col4\" class=\"data row9 col4\" >0.5938</td>\n",
       "      <td id=\"T_d7d47_row9_col5\" class=\"data row9 col5\" >0.2064</td>\n",
       "      <td id=\"T_d7d47_row9_col6\" class=\"data row9 col6\" >0.1146</td>\n",
       "      <td id=\"T_d7d47_row9_col7\" class=\"data row9 col7\" >0.1665</td>\n",
       "      <td id=\"T_d7d47_row9_col8\" class=\"data row9 col8\" >0.0230</td>\n",
       "    </tr>\n",
       "    <tr>\n",
       "      <th id=\"T_d7d47_level0_row10\" class=\"row_heading level0 row10\" >nb</th>\n",
       "      <td id=\"T_d7d47_row10_col0\" class=\"data row10 col0\" >Naive Bayes</td>\n",
       "      <td id=\"T_d7d47_row10_col1\" class=\"data row10 col1\" >0.7434</td>\n",
       "      <td id=\"T_d7d47_row10_col2\" class=\"data row10 col2\" >0.6956</td>\n",
       "      <td id=\"T_d7d47_row10_col3\" class=\"data row10 col3\" >0.3046</td>\n",
       "      <td id=\"T_d7d47_row10_col4\" class=\"data row10 col4\" >0.6589</td>\n",
       "      <td id=\"T_d7d47_row10_col5\" class=\"data row10 col5\" >0.4152</td>\n",
       "      <td id=\"T_d7d47_row10_col6\" class=\"data row10 col6\" >0.2786</td>\n",
       "      <td id=\"T_d7d47_row10_col7\" class=\"data row10 col7\" >0.3132</td>\n",
       "      <td id=\"T_d7d47_row10_col8\" class=\"data row10 col8\" >0.0090</td>\n",
       "    </tr>\n",
       "    <tr>\n",
       "      <th id=\"T_d7d47_level0_row11\" class=\"row_heading level0 row11\" >dummy</th>\n",
       "      <td id=\"T_d7d47_row11_col0\" class=\"data row11 col0\" >Dummy Classifier</td>\n",
       "      <td id=\"T_d7d47_row11_col1\" class=\"data row11 col1\" >0.6998</td>\n",
       "      <td id=\"T_d7d47_row11_col2\" class=\"data row11 col2\" >0.5000</td>\n",
       "      <td id=\"T_d7d47_row11_col3\" class=\"data row11 col3\" >0.0000</td>\n",
       "      <td id=\"T_d7d47_row11_col4\" class=\"data row11 col4\" >0.0000</td>\n",
       "      <td id=\"T_d7d47_row11_col5\" class=\"data row11 col5\" >0.0000</td>\n",
       "      <td id=\"T_d7d47_row11_col6\" class=\"data row11 col6\" >0.0000</td>\n",
       "      <td id=\"T_d7d47_row11_col7\" class=\"data row11 col7\" >0.0000</td>\n",
       "      <td id=\"T_d7d47_row11_col8\" class=\"data row11 col8\" >0.0100</td>\n",
       "    </tr>\n",
       "    <tr>\n",
       "      <th id=\"T_d7d47_level0_row12\" class=\"row_heading level0 row12\" >svm</th>\n",
       "      <td id=\"T_d7d47_row12_col0\" class=\"data row12 col0\" >SVM - Linear Kernel</td>\n",
       "      <td id=\"T_d7d47_row12_col1\" class=\"data row12 col1\" >0.6823</td>\n",
       "      <td id=\"T_d7d47_row12_col2\" class=\"data row12 col2\" >0.0000</td>\n",
       "      <td id=\"T_d7d47_row12_col3\" class=\"data row12 col3\" >0.0266</td>\n",
       "      <td id=\"T_d7d47_row12_col4\" class=\"data row12 col4\" >0.0735</td>\n",
       "      <td id=\"T_d7d47_row12_col5\" class=\"data row12 col5\" >0.0261</td>\n",
       "      <td id=\"T_d7d47_row12_col6\" class=\"data row12 col6\" >-0.0094</td>\n",
       "      <td id=\"T_d7d47_row12_col7\" class=\"data row12 col7\" >-0.0071</td>\n",
       "      <td id=\"T_d7d47_row12_col8\" class=\"data row12 col8\" >0.0260</td>\n",
       "    </tr>\n",
       "    <tr>\n",
       "      <th id=\"T_d7d47_level0_row13\" class=\"row_heading level0 row13\" >ridge</th>\n",
       "      <td id=\"T_d7d47_row13_col0\" class=\"data row13 col0\" >Ridge Classifier</td>\n",
       "      <td id=\"T_d7d47_row13_col1\" class=\"data row13 col1\" >0.7121</td>\n",
       "      <td id=\"T_d7d47_row13_col2\" class=\"data row13 col2\" >0.0000</td>\n",
       "      <td id=\"T_d7d47_row13_col3\" class=\"data row13 col3\" >0.1646</td>\n",
       "      <td id=\"T_d7d47_row13_col4\" class=\"data row13 col4\" >0.5757</td>\n",
       "      <td id=\"T_d7d47_row13_col5\" class=\"data row13 col5\" >0.2545</td>\n",
       "      <td id=\"T_d7d47_row13_col6\" class=\"data row13 col6\" >0.1398</td>\n",
       "      <td id=\"T_d7d47_row13_col7\" class=\"data row13 col7\" >0.1827</td>\n",
       "      <td id=\"T_d7d47_row13_col8\" class=\"data row13 col8\" >0.0110</td>\n",
       "    </tr>\n",
       "  </tbody>\n",
       "</table>\n"
      ],
      "text/plain": [
       "<pandas.io.formats.style.Styler at 0x272df835460>"
      ]
     },
     "metadata": {},
     "output_type": "display_data"
    }
   ],
   "source": [
    "best = compare_models(sort='auc')"
   ]
  },
  {
   "cell_type": "code",
   "execution_count": 48,
   "id": "547ea903",
   "metadata": {},
   "outputs": [
    {
     "data": {
      "application/vnd.jupyter.widget-view+json": {
       "model_id": "339124dad0b343e58089e33f7de55243",
       "version_major": 2,
       "version_minor": 0
      },
      "text/plain": [
       "interactive(children=(ToggleButtons(description='Plot Type:', icons=('',), options=(('Hyperparameters', 'param…"
      ]
     },
     "metadata": {},
     "output_type": "display_data"
    }
   ],
   "source": [
    "evaluate_model(best)"
   ]
  },
  {
   "cell_type": "markdown",
   "id": "317e26c4",
   "metadata": {},
   "source": [
    "PyCaret gives the option to fine tune your selected model. Let us do so and compare with the original."
   ]
  },
  {
   "cell_type": "code",
   "execution_count": 49,
   "id": "ce7cdfad",
   "metadata": {},
   "outputs": [
    {
     "data": {
      "text/html": [
       "<style type=\"text/css\">\n",
       "#T_d030f_row10_col0, #T_d030f_row10_col1, #T_d030f_row10_col2, #T_d030f_row10_col3, #T_d030f_row10_col4, #T_d030f_row10_col5, #T_d030f_row10_col6 {\n",
       "  background: yellow;\n",
       "}\n",
       "</style>\n",
       "<table id=\"T_d030f\">\n",
       "  <thead>\n",
       "    <tr>\n",
       "      <th class=\"blank level0\" >&nbsp;</th>\n",
       "      <th id=\"T_d030f_level0_col0\" class=\"col_heading level0 col0\" >Accuracy</th>\n",
       "      <th id=\"T_d030f_level0_col1\" class=\"col_heading level0 col1\" >AUC</th>\n",
       "      <th id=\"T_d030f_level0_col2\" class=\"col_heading level0 col2\" >Recall</th>\n",
       "      <th id=\"T_d030f_level0_col3\" class=\"col_heading level0 col3\" >Prec.</th>\n",
       "      <th id=\"T_d030f_level0_col4\" class=\"col_heading level0 col4\" >F1</th>\n",
       "      <th id=\"T_d030f_level0_col5\" class=\"col_heading level0 col5\" >Kappa</th>\n",
       "      <th id=\"T_d030f_level0_col6\" class=\"col_heading level0 col6\" >MCC</th>\n",
       "    </tr>\n",
       "    <tr>\n",
       "      <th class=\"index_name level0\" >Fold</th>\n",
       "      <th class=\"blank col0\" >&nbsp;</th>\n",
       "      <th class=\"blank col1\" >&nbsp;</th>\n",
       "      <th class=\"blank col2\" >&nbsp;</th>\n",
       "      <th class=\"blank col3\" >&nbsp;</th>\n",
       "      <th class=\"blank col4\" >&nbsp;</th>\n",
       "      <th class=\"blank col5\" >&nbsp;</th>\n",
       "      <th class=\"blank col6\" >&nbsp;</th>\n",
       "    </tr>\n",
       "  </thead>\n",
       "  <tbody>\n",
       "    <tr>\n",
       "      <th id=\"T_d030f_level0_row0\" class=\"row_heading level0 row0\" >0</th>\n",
       "      <td id=\"T_d030f_row0_col0\" class=\"data row0 col0\" >0.8621</td>\n",
       "      <td id=\"T_d030f_row0_col1\" class=\"data row0 col1\" >0.9229</td>\n",
       "      <td id=\"T_d030f_row0_col2\" class=\"data row0 col2\" >0.6691</td>\n",
       "      <td id=\"T_d030f_row0_col3\" class=\"data row0 col3\" >0.8378</td>\n",
       "      <td id=\"T_d030f_row0_col4\" class=\"data row0 col4\" >0.7440</td>\n",
       "      <td id=\"T_d030f_row0_col5\" class=\"data row0 col5\" >0.6512</td>\n",
       "      <td id=\"T_d030f_row0_col6\" class=\"data row0 col6\" >0.6589</td>\n",
       "    </tr>\n",
       "    <tr>\n",
       "      <th id=\"T_d030f_level0_row1\" class=\"row_heading level0 row1\" >1</th>\n",
       "      <td id=\"T_d030f_row1_col0\" class=\"data row1 col0\" >0.8621</td>\n",
       "      <td id=\"T_d030f_row1_col1\" class=\"data row1 col1\" >0.9220</td>\n",
       "      <td id=\"T_d030f_row1_col2\" class=\"data row1 col2\" >0.7194</td>\n",
       "      <td id=\"T_d030f_row1_col3\" class=\"data row1 col3\" >0.8000</td>\n",
       "      <td id=\"T_d030f_row1_col4\" class=\"data row1 col4\" >0.7576</td>\n",
       "      <td id=\"T_d030f_row1_col5\" class=\"data row1 col5\" >0.6616</td>\n",
       "      <td id=\"T_d030f_row1_col6\" class=\"data row1 col6\" >0.6634</td>\n",
       "    </tr>\n",
       "    <tr>\n",
       "      <th id=\"T_d030f_level0_row2\" class=\"row_heading level0 row2\" >2</th>\n",
       "      <td id=\"T_d030f_row2_col0\" class=\"data row2 col0\" >0.8448</td>\n",
       "      <td id=\"T_d030f_row2_col1\" class=\"data row2 col1\" >0.9033</td>\n",
       "      <td id=\"T_d030f_row2_col2\" class=\"data row2 col2\" >0.6691</td>\n",
       "      <td id=\"T_d030f_row2_col3\" class=\"data row2 col3\" >0.7815</td>\n",
       "      <td id=\"T_d030f_row2_col4\" class=\"data row2 col4\" >0.7209</td>\n",
       "      <td id=\"T_d030f_row2_col5\" class=\"data row2 col5\" >0.6144</td>\n",
       "      <td id=\"T_d030f_row2_col6\" class=\"data row2 col6\" >0.6179</td>\n",
       "    </tr>\n",
       "    <tr>\n",
       "      <th id=\"T_d030f_level0_row3\" class=\"row_heading level0 row3\" >3</th>\n",
       "      <td id=\"T_d030f_row3_col0\" class=\"data row3 col0\" >0.8491</td>\n",
       "      <td id=\"T_d030f_row3_col1\" class=\"data row3 col1\" >0.8996</td>\n",
       "      <td id=\"T_d030f_row3_col2\" class=\"data row3 col2\" >0.6619</td>\n",
       "      <td id=\"T_d030f_row3_col3\" class=\"data row3 col3\" >0.8000</td>\n",
       "      <td id=\"T_d030f_row3_col4\" class=\"data row3 col4\" >0.7244</td>\n",
       "      <td id=\"T_d030f_row3_col5\" class=\"data row3 col5\" >0.6218</td>\n",
       "      <td id=\"T_d030f_row3_col6\" class=\"data row3 col6\" >0.6271</td>\n",
       "    </tr>\n",
       "    <tr>\n",
       "      <th id=\"T_d030f_level0_row4\" class=\"row_heading level0 row4\" >4</th>\n",
       "      <td id=\"T_d030f_row4_col0\" class=\"data row4 col0\" >0.8513</td>\n",
       "      <td id=\"T_d030f_row4_col1\" class=\"data row4 col1\" >0.9195</td>\n",
       "      <td id=\"T_d030f_row4_col2\" class=\"data row4 col2\" >0.7194</td>\n",
       "      <td id=\"T_d030f_row4_col3\" class=\"data row4 col3\" >0.7692</td>\n",
       "      <td id=\"T_d030f_row4_col4\" class=\"data row4 col4\" >0.7435</td>\n",
       "      <td id=\"T_d030f_row4_col5\" class=\"data row4 col5\" >0.6390</td>\n",
       "      <td id=\"T_d030f_row4_col6\" class=\"data row4 col6\" >0.6397</td>\n",
       "    </tr>\n",
       "    <tr>\n",
       "      <th id=\"T_d030f_level0_row5\" class=\"row_heading level0 row5\" >5</th>\n",
       "      <td id=\"T_d030f_row5_col0\" class=\"data row5 col0\" >0.8254</td>\n",
       "      <td id=\"T_d030f_row5_col1\" class=\"data row5 col1\" >0.8967</td>\n",
       "      <td id=\"T_d030f_row5_col2\" class=\"data row5 col2\" >0.6143</td>\n",
       "      <td id=\"T_d030f_row5_col3\" class=\"data row5 col3\" >0.7611</td>\n",
       "      <td id=\"T_d030f_row5_col4\" class=\"data row5 col4\" >0.6798</td>\n",
       "      <td id=\"T_d030f_row5_col5\" class=\"data row5 col5\" >0.5617</td>\n",
       "      <td id=\"T_d030f_row5_col6\" class=\"data row5 col6\" >0.5678</td>\n",
       "    </tr>\n",
       "    <tr>\n",
       "      <th id=\"T_d030f_level0_row6\" class=\"row_heading level0 row6\" >6</th>\n",
       "      <td id=\"T_d030f_row6_col0\" class=\"data row6 col0\" >0.8664</td>\n",
       "      <td id=\"T_d030f_row6_col1\" class=\"data row6 col1\" >0.9295</td>\n",
       "      <td id=\"T_d030f_row6_col2\" class=\"data row6 col2\" >0.7857</td>\n",
       "      <td id=\"T_d030f_row6_col3\" class=\"data row6 col3\" >0.7746</td>\n",
       "      <td id=\"T_d030f_row6_col4\" class=\"data row6 col4\" >0.7801</td>\n",
       "      <td id=\"T_d030f_row6_col5\" class=\"data row6 col5\" >0.6842</td>\n",
       "      <td id=\"T_d030f_row6_col6\" class=\"data row6 col6\" >0.6842</td>\n",
       "    </tr>\n",
       "    <tr>\n",
       "      <th id=\"T_d030f_level0_row7\" class=\"row_heading level0 row7\" >7</th>\n",
       "      <td id=\"T_d030f_row7_col0\" class=\"data row7 col0\" >0.8683</td>\n",
       "      <td id=\"T_d030f_row7_col1\" class=\"data row7 col1\" >0.9184</td>\n",
       "      <td id=\"T_d030f_row7_col2\" class=\"data row7 col2\" >0.7266</td>\n",
       "      <td id=\"T_d030f_row7_col3\" class=\"data row7 col3\" >0.8145</td>\n",
       "      <td id=\"T_d030f_row7_col4\" class=\"data row7 col4\" >0.7681</td>\n",
       "      <td id=\"T_d030f_row7_col5\" class=\"data row7 col5\" >0.6765</td>\n",
       "      <td id=\"T_d030f_row7_col6\" class=\"data row7 col6\" >0.6786</td>\n",
       "    </tr>\n",
       "    <tr>\n",
       "      <th id=\"T_d030f_level0_row8\" class=\"row_heading level0 row8\" >8</th>\n",
       "      <td id=\"T_d030f_row8_col0\" class=\"data row8 col0\" >0.8553</td>\n",
       "      <td id=\"T_d030f_row8_col1\" class=\"data row8 col1\" >0.9384</td>\n",
       "      <td id=\"T_d030f_row8_col2\" class=\"data row8 col2\" >0.6978</td>\n",
       "      <td id=\"T_d030f_row8_col3\" class=\"data row8 col3\" >0.7951</td>\n",
       "      <td id=\"T_d030f_row8_col4\" class=\"data row8 col4\" >0.7433</td>\n",
       "      <td id=\"T_d030f_row8_col5\" class=\"data row8 col5\" >0.6431</td>\n",
       "      <td id=\"T_d030f_row8_col6\" class=\"data row8 col6\" >0.6458</td>\n",
       "    </tr>\n",
       "    <tr>\n",
       "      <th id=\"T_d030f_level0_row9\" class=\"row_heading level0 row9\" >9</th>\n",
       "      <td id=\"T_d030f_row9_col0\" class=\"data row9 col0\" >0.8596</td>\n",
       "      <td id=\"T_d030f_row9_col1\" class=\"data row9 col1\" >0.9156</td>\n",
       "      <td id=\"T_d030f_row9_col2\" class=\"data row9 col2\" >0.6835</td>\n",
       "      <td id=\"T_d030f_row9_col3\" class=\"data row9 col3\" >0.8190</td>\n",
       "      <td id=\"T_d030f_row9_col4\" class=\"data row9 col4\" >0.7451</td>\n",
       "      <td id=\"T_d030f_row9_col5\" class=\"data row9 col5\" >0.6493</td>\n",
       "      <td id=\"T_d030f_row9_col6\" class=\"data row9 col6\" >0.6544</td>\n",
       "    </tr>\n",
       "    <tr>\n",
       "      <th id=\"T_d030f_level0_row10\" class=\"row_heading level0 row10\" >Mean</th>\n",
       "      <td id=\"T_d030f_row10_col0\" class=\"data row10 col0\" >0.8544</td>\n",
       "      <td id=\"T_d030f_row10_col1\" class=\"data row10 col1\" >0.9166</td>\n",
       "      <td id=\"T_d030f_row10_col2\" class=\"data row10 col2\" >0.6947</td>\n",
       "      <td id=\"T_d030f_row10_col3\" class=\"data row10 col3\" >0.7953</td>\n",
       "      <td id=\"T_d030f_row10_col4\" class=\"data row10 col4\" >0.7407</td>\n",
       "      <td id=\"T_d030f_row10_col5\" class=\"data row10 col5\" >0.6403</td>\n",
       "      <td id=\"T_d030f_row10_col6\" class=\"data row10 col6\" >0.6438</td>\n",
       "    </tr>\n",
       "    <tr>\n",
       "      <th id=\"T_d030f_level0_row11\" class=\"row_heading level0 row11\" >Std</th>\n",
       "      <td id=\"T_d030f_row11_col0\" class=\"data row11 col0\" >0.0120</td>\n",
       "      <td id=\"T_d030f_row11_col1\" class=\"data row11 col1\" >0.0126</td>\n",
       "      <td id=\"T_d030f_row11_col2\" class=\"data row11 col2\" >0.0442</td>\n",
       "      <td id=\"T_d030f_row11_col3\" class=\"data row11 col3\" >0.0229</td>\n",
       "      <td id=\"T_d030f_row11_col4\" class=\"data row11 col4\" >0.0264</td>\n",
       "      <td id=\"T_d030f_row11_col5\" class=\"data row11 col5\" >0.0333</td>\n",
       "      <td id=\"T_d030f_row11_col6\" class=\"data row11 col6\" >0.0321</td>\n",
       "    </tr>\n",
       "  </tbody>\n",
       "</table>\n"
      ],
      "text/plain": [
       "<pandas.io.formats.style.Styler at 0x272dde3e550>"
      ]
     },
     "metadata": {},
     "output_type": "display_data"
    }
   ],
   "source": [
    "model = best\n",
    "tuned_model = tune_model(model,optimize='auc')"
   ]
  },
  {
   "cell_type": "code",
   "execution_count": 50,
   "id": "416986ca",
   "metadata": {},
   "outputs": [
    {
     "name": "stdout",
     "output_type": "stream",
     "text": [
      "LGBMClassifier(boosting_type='gbdt', class_weight=None, colsample_bytree=1.0,\n",
      "               importance_type='split', learning_rate=0.1, max_depth=-1,\n",
      "               min_child_samples=20, min_child_weight=0.001, min_split_gain=0.0,\n",
      "               n_estimators=100, n_jobs=-1, num_leaves=31, objective=None,\n",
      "               random_state=4996, reg_alpha=0.0, reg_lambda=0.0, silent='warn',\n",
      "               subsample=1.0, subsample_for_bin=200000, subsample_freq=0)\n",
      "LGBMClassifier(bagging_fraction=0.7, bagging_freq=5, boosting_type='gbdt',\n",
      "               class_weight=None, colsample_bytree=1.0, feature_fraction=1.0,\n",
      "               importance_type='split', learning_rate=0.2, max_depth=-1,\n",
      "               min_child_samples=76, min_child_weight=0.001, min_split_gain=0.7,\n",
      "               n_estimators=260, n_jobs=-1, num_leaves=60, objective=None,\n",
      "               random_state=4996, reg_alpha=1, reg_lambda=0.7, silent='warn',\n",
      "               subsample=1.0, subsample_for_bin=200000, subsample_freq=0)\n"
     ]
    }
   ],
   "source": [
    "print(model)\n",
    "print(tuned_model)"
   ]
  },
  {
   "cell_type": "markdown",
   "id": "c2ebd42a",
   "metadata": {},
   "source": [
    "Original model is better. Let's interpret it."
   ]
  },
  {
   "cell_type": "code",
   "execution_count": 51,
   "id": "142548cd",
   "metadata": {},
   "outputs": [
    {
     "data": {
      "image/png": "[encoded data removed]",
      "text/plain": [
       "<Figure size 576x223.2 with 2 Axes>"
      ]
     },
     "metadata": {
      "needs_background": "light"
     },
     "output_type": "display_data"
    }
   ],
   "source": [
    "interpret_model(model)"
   ]
  },
  {
   "cell_type": "markdown",
   "id": "6ffdf3c8",
   "metadata": {},
   "source": [
    "Red dots represent higher values of the feature while blue dots represent lower values of the feature. \n",
    "\n",
    "The interpretation is that in general, the more hours an employee works on average, the higher the chance of churning. The lower the performance review rating, the less likely an employee will churn. For employee satisfaction, there is a small number of highly satisfied employees who ended up churning but generally there are more blue points on the right side of the graph, which mean that less satisfied employees are more likely to churn. Tenure relatively seems to have little impact on the outcome of predictions.\n",
    "\n",
    "The findings on employee performance review ratings and satisfaction are interesting, where most employees with lower ratings tend to stay instead of churning. Findings like these warrant further review, perhaps relating to company culture and personal motivations of each employee. Same could be said about the findings with employee satisfaction."
   ]
  },
  {
   "cell_type": "markdown",
   "id": "d130e55e",
   "metadata": {},
   "source": [
    "Let's save the model."
   ]
  },
  {
   "cell_type": "code",
   "execution_count": 52,
   "id": "b7a4380b",
   "metadata": {},
   "outputs": [
    {
     "name": "stdout",
     "output_type": "stream",
     "text": [
      "Transformation Pipeline and Model Successfully Saved\n"
     ]
    },
    {
     "data": {
      "text/plain": [
       "(Pipeline(memory=None,\n",
       "          steps=[('dtypes',\n",
       "                  DataTypes_Auto_infer(categorical_features=[],\n",
       "                                       display_types=True, features_todrop=[],\n",
       "                                       id_columns=[],\n",
       "                                       ml_usecase='classification',\n",
       "                                       numerical_features=[], target='left',\n",
       "                                       time_features=[])),\n",
       "                 ('imputer',\n",
       "                  Simple_Imputer(categorical_strategy='not_available',\n",
       "                                 fill_value_categorical=None,\n",
       "                                 fill_value_numerical=None,\n",
       "                                 numeric_strateg...\n",
       "                  LGBMClassifier(boosting_type='gbdt', class_weight=None,\n",
       "                                 colsample_bytree=1.0, importance_type='split',\n",
       "                                 learning_rate=0.1, max_depth=-1,\n",
       "                                 min_child_samples=20, min_child_weight=0.001,\n",
       "                                 min_split_gain=0.0, n_estimators=100, n_jobs=-1,\n",
       "                                 num_leaves=31, objective=None,\n",
       "                                 random_state=4996, reg_alpha=0.0,\n",
       "                                 reg_lambda=0.0, silent='warn', subsample=1.0,\n",
       "                                 subsample_for_bin=200000, subsample_freq=0)]],\n",
       "          verbose=False),\n",
       " 'employee_churn_model.pkl')"
      ]
     },
     "execution_count": 52,
     "metadata": {},
     "output_type": "execute_result"
    }
   ],
   "source": [
    "save_model(model,'employee_churn_model')"
   ]
  }
 ],
 "metadata": {
  "kernelspec": {
   "display_name": "forpycaret",
   "language": "python",
   "name": "forpycaret"
  },
  "language_info": {
   "codemirror_mode": {
    "name": "ipython",
    "version": 3
   },
   "file_extension": ".py",
   "mimetype": "text/x-python",
   "name": "python",
   "nbconvert_exporter": "python",
   "pygments_lexer": "ipython3",
   "version": "3.8.13"
  }
 },
 "nbformat": 4,
 "nbformat_minor": 5
}
